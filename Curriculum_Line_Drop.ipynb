{
  "nbformat": 4,
  "nbformat_minor": 0,
  "metadata": {
    "colab": {
      "name": "Curriculum_Line_Drop.ipynb",
      "version": "0.3.2",
      "provenance": [],
      "collapsed_sections": []
    },
    "kernelspec": {
      "name": "python3",
      "display_name": "Python 3"
    },
    "accelerator": "GPU"
  },
  "cells": [
    {
      "cell_type": "markdown",
      "metadata": {
        "id": "VouTljcpLD-A",
        "colab_type": "text"
      },
      "source": [
        "# Installing desired version of fastai - pytorch"
      ]
    },
    {
      "cell_type": "code",
      "metadata": {
        "id": "Y0Tf08U0r5GP",
        "colab_type": "code",
        "colab": {}
      },
      "source": [
        "!pip install fastai==1.0.54 > /dev/null"
      ],
      "execution_count": 0,
      "outputs": []
    },
    {
      "cell_type": "markdown",
      "metadata": {
        "id": "6VmFz6IJKM45",
        "colab_type": "text"
      },
      "source": [
        "# Setting up Environment to get reproducible results\n",
        "\n",
        "[** Didn't set num_workers as 1]\n",
        "\n",
        "Ref : https://docs.fast.ai/dev/test.html#getting-reproducible-results"
      ]
    },
    {
      "cell_type": "code",
      "metadata": {
        "id": "APQjxSSkKKXZ",
        "colab_type": "code",
        "colab": {}
      },
      "source": [
        "seed = 42\n",
        "\n",
        "# python RNG\n",
        "import random\n",
        "random.seed(seed)\n",
        "\n",
        "# pytorch RNGs\n",
        "import torch\n",
        "torch.manual_seed(seed)\n",
        "torch.backends.cudnn.deterministic = True\n",
        "if torch.cuda.is_available(): torch.cuda.manual_seed_all(seed)\n",
        "\n",
        "# numpy RNG\n",
        "import numpy as np\n",
        "np.random.seed(seed)"
      ],
      "execution_count": 0,
      "outputs": []
    },
    {
      "cell_type": "markdown",
      "metadata": {
        "id": "Fv4c2zj4J0fG",
        "colab_type": "text"
      },
      "source": [
        "# Loading required packages\n",
        "\n",
        "(Some packages can be removed, as I have carried out other operations that are not part of this release)"
      ]
    },
    {
      "cell_type": "code",
      "metadata": {
        "id": "oZCzCpUDsTsc",
        "colab_type": "code",
        "colab": {}
      },
      "source": [
        "import torch.nn as nn\n",
        "\n",
        "import torch\n",
        "import torch.nn as nn\n",
        "import torch.nn.functional as F\n",
        "import shutil as sh\n",
        "import os\n",
        "\n",
        "from fastai.layers import *\n",
        "from fastai.torch_core import *\n",
        "\n",
        "from fastai.vision import *\n",
        "from fastai.callbacks.csv_logger import CSVLogger\n",
        "from fastai.callbacks.hooks import *\n",
        "\n",
        "torch.backends.cudnn.benchmark = True\n",
        "\n",
        "from fastai.torch_core import *\n",
        "from fastai.callback import *\n",
        "from fastai.callbacks import *\n",
        "from fastai.basic_train import *\n",
        "from fastai.basic_data import *"
      ],
      "execution_count": 0,
      "outputs": []
    },
    {
      "cell_type": "markdown",
      "metadata": {
        "id": "REEHRBQmLKbz",
        "colab_type": "text"
      },
      "source": [
        "# Downloading CIFAR100 Dataset"
      ]
    },
    {
      "cell_type": "code",
      "metadata": {
        "id": "gyz_iBnxsYcv",
        "colab_type": "code",
        "colab": {}
      },
      "source": [
        "path = untar_data(URLs.CIFAR_100)"
      ],
      "execution_count": 0,
      "outputs": []
    },
    {
      "cell_type": "markdown",
      "metadata": {
        "id": "Co1a_MdlLUVR",
        "colab_type": "text"
      },
      "source": [
        "# Parameters and Dataloader"
      ]
    },
    {
      "cell_type": "code",
      "metadata": {
        "id": "RZ8em3bksbBV",
        "colab_type": "code",
        "colab": {}
      },
      "source": [
        "bs = 128\n",
        "epochs = 50\n",
        "metrics = [accuracy, error_rate, top_k_accuracy]\n",
        "\n",
        "loss_func = nn.CrossEntropyLoss()\n",
        "\n",
        "base_lr = 0.1\n",
        "momentum= 0.9\n",
        "w_decay = 0.0001\n",
        "\n",
        "opt_func = partial (optim.SGD, momentum=0.9)\n",
        "\n",
        "result_path = '/content/sample_data/activation/results/'\n",
        "final_path = \"/content/drive/'My Drive'/activation/\""
      ],
      "execution_count": 0,
      "outputs": []
    },
    {
      "cell_type": "code",
      "metadata": {
        "id": "HfADxASeskWy",
        "colab_type": "code",
        "colab": {}
      },
      "source": [
        "ds_tfms = ([ *rand_pad(4, 32), flip_lr(p=0.5)], [])\n",
        "data = ImageDataBunch.from_folder(path, valid='test', bs=bs ,ds_tfms = ds_tfms , val_bs =100).normalize(cifar_stats)"
      ],
      "execution_count": 0,
      "outputs": []
    },
    {
      "cell_type": "markdown",
      "metadata": {
        "id": "BCD1ZZRXLdB9",
        "colab_type": "text"
      },
      "source": [
        "# Modified NIN network\n",
        "\n",
        "Official Implementation\n",
        "\n",
        "https://gist.github.com/mavenlin/e56253735ef32c3c296d#file-solver-prototxt\n",
        "\n",
        "Our implementation is based on \n",
        "\n",
        "https://github.com/jiecaoyu/pytorch-nin-cifar10"
      ]
    },
    {
      "cell_type": "code",
      "metadata": {
        "id": "uQyEdkqpsrI0",
        "colab_type": "code",
        "colab": {}
      },
      "source": [
        "class Net(nn.Module):\n",
        "  def __init__(self):\n",
        "    super(Net, self).__init__()\n",
        "    self.num_classes = 100\n",
        "    self.classifier = nn.Sequential(\n",
        "                      nn.Conv2d(3, 192, kernel_size=5, stride=1, padding=2),\n",
        "                      nn.ReLU(inplace=True),\n",
        "        \n",
        "                      nn.Conv2d(192, 160, kernel_size=1, stride=1, padding=0),\n",
        "                      nn.ReLU(inplace=True),\n",
        "        \n",
        "                      nn.Conv2d(160,  96, kernel_size=1, stride=1, padding=0),\n",
        "                      nn.ReLU(inplace=True),\n",
        "        \n",
        "                      nn.MaxPool2d(kernel_size=3, stride=2, padding=1),\n",
        "                      nn.Dropout(0.5),\n",
        "\n",
        "                      nn.Conv2d(96, 192, kernel_size=5, stride=1, padding=2),\n",
        "                      nn.ReLU(inplace=True),\n",
        "        \n",
        "                      nn.Conv2d(192, 192, kernel_size=1, stride=1, padding=0),\n",
        "                      nn.ReLU(inplace=True),\n",
        "        \n",
        "                      nn.Conv2d(192, 192, kernel_size=1, stride=1, padding=0),\n",
        "                      nn.ReLU(inplace=True),\n",
        "        \n",
        "                      nn.AvgPool2d(kernel_size=3, stride=2, padding=1),\n",
        "                      nn.Dropout(0.5),\n",
        "\n",
        "                      nn.Conv2d(192, 192, kernel_size=3, stride=1, padding=1),\n",
        "                      nn.ReLU(inplace=True),\n",
        "        \n",
        "                      nn.Conv2d(192, 192, kernel_size=1, stride=1, padding=0),\n",
        "                      nn.ReLU(inplace=True),\n",
        "        \n",
        "                      nn.Conv2d(192,  self.num_classes , kernel_size=1, stride=1, padding=0),\n",
        "                      nn.ReLU(inplace=True),\n",
        "        \n",
        "                      nn.AvgPool2d(kernel_size=8, stride=1, padding=0),\n",
        "                      )\n",
        "\n",
        "  def forward(self, x):\n",
        "    x = self.classifier(x)\n",
        "    x = x.view(x.size(0), self.num_classes)\n",
        "    return x"
      ],
      "execution_count": 0,
      "outputs": []
    },
    {
      "cell_type": "code",
      "metadata": {
        "id": "V1jIaKI1lmiu",
        "colab_type": "code",
        "colab": {}
      },
      "source": [
        "class Rank_Activations(HookCallback):\n",
        "    \"Callback that record the mean and std of activations.\"\n",
        "    stats= []\n",
        "    \n",
        "    def on_train_begin(self, **kwargs):\n",
        "        \"Initialize stats.\"\n",
        "        super().on_train_begin(**kwargs)\n",
        "        self.stats = []\n",
        "        self.num = 0\n",
        "\n",
        "    def hook(self, m:nn.Conv2d, i:Tensors, o:Tensors)->Tuple[Rank0Tensor,Rank0Tensor]:\n",
        "        \"Take the mean and std of `o`.\"\n",
        "        self.num = self.num + 1\n",
        "        if isinstance(m, nn.Conv2d):\n",
        "          res = o.mean().item()\n",
        "          return res\n",
        "          #print(m)\n",
        "        else:\n",
        "          #res = None\n",
        "          pass\n",
        "      \n",
        "    def on_batch_end(self, train, **kwargs):\n",
        "        \"Take the stored results and puts it in `self.stats`\"\n",
        "        if (not train): self.stats.append(self.hooks.stored)\n",
        "          \n",
        "    def on_train_end(self, **kwargs):\n",
        "        \"Polish the final result.\"\n",
        "        super().on_train_end(**kwargs)\n",
        "        self.stats = (self.stats)"
      ],
      "execution_count": 0,
      "outputs": []
    },
    {
      "cell_type": "markdown",
      "metadata": {
        "id": "ObXs8cj2L5Io",
        "colab_type": "text"
      },
      "source": [
        "# Initializing weights and bias"
      ]
    },
    {
      "cell_type": "code",
      "metadata": {
        "id": "HcYid_IfMHzD",
        "colab_type": "code",
        "colab": {}
      },
      "source": [
        "model = Net()\n",
        "# model.cuda()\n",
        "\n",
        "pretrained=False\n",
        "if pretrained:\n",
        "    params = pickle.load(open('data/params', 'r'))\n",
        "    index = -1\n",
        "    for m in model.modules():\n",
        "        if isinstance(m, nn.Conv2d):\n",
        "            index = index + 1\n",
        "            weight = torch.from_numpy(params[index])\n",
        "            m.weight.data.copy_(weight)\n",
        "            index = index + 1\n",
        "            bias = torch.from_numpy(params[index])\n",
        "            m.bias.data.copy_(bias)\n",
        "else:\n",
        "    for m in model.modules():\n",
        "        if isinstance(m, nn.Conv2d):\n",
        "            m.weight.data.normal_(0, 0.05)\n",
        "            m.bias.data.normal_(0, 0.0)\n"
      ],
      "execution_count": 0,
      "outputs": []
    },
    {
      "cell_type": "markdown",
      "metadata": {
        "id": "FMfiYInuMOXv",
        "colab_type": "text"
      },
      "source": [
        "# Splitting Model into sections for discriminative learning"
      ]
    },
    {
      "cell_type": "code",
      "metadata": {
        "id": "O8lfuSKOaVUh",
        "colab_type": "code",
        "colab": {}
      },
      "source": [
        "learn = Learner(data, model, loss_func= loss_func, opt_func = opt_func ,metrics=metrics).mixup()"
      ],
      "execution_count": 0,
      "outputs": []
    },
    {
      "cell_type": "code",
      "metadata": {
        "id": "UBs1iGqzsuKv",
        "colab_type": "code",
        "outputId": "8d26ae15-ca90-40cd-ec94-1eaa6b938b4d",
        "colab": {
          "base_uri": "https://localhost:8080/",
          "height": 1000
        }
      },
      "source": [
        "learn.split([[ learn.model.classifier[0:20]], [learn.model.classifier[20] ]])"
      ],
      "execution_count": 0,
      "outputs": [
        {
          "output_type": "execute_result",
          "data": {
            "text/plain": [
              "Learner(data=ImageDataBunch;\n",
              "\n",
              "Train: LabelList (50000 items)\n",
              "x: ImageList\n",
              "Image (3, 32, 32),Image (3, 32, 32),Image (3, 32, 32),Image (3, 32, 32),Image (3, 32, 32)\n",
              "y: CategoryList\n",
              "flatfish,flatfish,flatfish,flatfish,flatfish\n",
              "Path: /root/.fastai/data/cifar100;\n",
              "\n",
              "Valid: LabelList (10000 items)\n",
              "x: ImageList\n",
              "Image (3, 32, 32),Image (3, 32, 32),Image (3, 32, 32),Image (3, 32, 32),Image (3, 32, 32)\n",
              "y: CategoryList\n",
              "flatfish,flatfish,flatfish,flatfish,flatfish\n",
              "Path: /root/.fastai/data/cifar100;\n",
              "\n",
              "Test: None, model=Net(\n",
              "  (classifier): Sequential(\n",
              "    (0): Conv2d(3, 192, kernel_size=(5, 5), stride=(1, 1), padding=(2, 2))\n",
              "    (1): ReLU(inplace)\n",
              "    (2): Conv2d(192, 160, kernel_size=(1, 1), stride=(1, 1))\n",
              "    (3): ReLU(inplace)\n",
              "    (4): Conv2d(160, 96, kernel_size=(1, 1), stride=(1, 1))\n",
              "    (5): ReLU(inplace)\n",
              "    (6): MaxPool2d(kernel_size=3, stride=2, padding=1, dilation=1, ceil_mode=False)\n",
              "    (7): Dropout(p=0.5)\n",
              "    (8): Conv2d(96, 192, kernel_size=(5, 5), stride=(1, 1), padding=(2, 2))\n",
              "    (9): ReLU(inplace)\n",
              "    (10): Conv2d(192, 192, kernel_size=(1, 1), stride=(1, 1))\n",
              "    (11): ReLU(inplace)\n",
              "    (12): Conv2d(192, 192, kernel_size=(1, 1), stride=(1, 1))\n",
              "    (13): ReLU(inplace)\n",
              "    (14): AvgPool2d(kernel_size=3, stride=2, padding=1)\n",
              "    (15): Dropout(p=0.5)\n",
              "    (16): Conv2d(192, 192, kernel_size=(3, 3), stride=(1, 1), padding=(1, 1))\n",
              "    (17): ReLU(inplace)\n",
              "    (18): Conv2d(192, 192, kernel_size=(1, 1), stride=(1, 1))\n",
              "    (19): ReLU(inplace)\n",
              "    (20): Conv2d(192, 100, kernel_size=(1, 1), stride=(1, 1))\n",
              "    (21): ReLU(inplace)\n",
              "    (22): AvgPool2d(kernel_size=8, stride=1, padding=0)\n",
              "  )\n",
              "), opt_func=functools.partial(<class 'torch.optim.sgd.SGD'>, momentum=0.9), loss_func=CrossEntropyLoss(), metrics=[<function accuracy at 0x7f825ae7d048>, <function error_rate at 0x7f825ae7d268>, <function top_k_accuracy at 0x7f825ae7d158>], true_wd=True, bn_wd=True, wd=0.01, train_bn=True, path=PosixPath('/root/.fastai/data/cifar100'), model_dir='models', callback_fns=[functools.partial(<class 'fastai.basic_train.Recorder'>, add_time=True, silent=False), functools.partial(<class 'fastai.callbacks.mixup.MixUpCallback'>, alpha=0.4, stack_x=False, stack_y=True)], callbacks=[], layer_groups=[Sequential(\n",
              "  (0): Sequential(\n",
              "    (0): Conv2d(3, 192, kernel_size=(5, 5), stride=(1, 1), padding=(2, 2))\n",
              "    (1): ReLU(inplace)\n",
              "    (2): Conv2d(192, 160, kernel_size=(1, 1), stride=(1, 1))\n",
              "    (3): ReLU(inplace)\n",
              "    (4): Conv2d(160, 96, kernel_size=(1, 1), stride=(1, 1))\n",
              "    (5): ReLU(inplace)\n",
              "    (6): MaxPool2d(kernel_size=3, stride=2, padding=1, dilation=1, ceil_mode=False)\n",
              "    (7): Dropout(p=0.5)\n",
              "    (8): Conv2d(96, 192, kernel_size=(5, 5), stride=(1, 1), padding=(2, 2))\n",
              "    (9): ReLU(inplace)\n",
              "    (10): Conv2d(192, 192, kernel_size=(1, 1), stride=(1, 1))\n",
              "    (11): ReLU(inplace)\n",
              "    (12): Conv2d(192, 192, kernel_size=(1, 1), stride=(1, 1))\n",
              "    (13): ReLU(inplace)\n",
              "    (14): AvgPool2d(kernel_size=3, stride=2, padding=1)\n",
              "    (15): Dropout(p=0.5)\n",
              "    (16): Conv2d(192, 192, kernel_size=(3, 3), stride=(1, 1), padding=(1, 1))\n",
              "    (17): ReLU(inplace)\n",
              "    (18): Conv2d(192, 192, kernel_size=(1, 1), stride=(1, 1))\n",
              "    (19): ReLU(inplace)\n",
              "  )\n",
              "), Sequential(\n",
              "  (0): Conv2d(192, 100, kernel_size=(1, 1), stride=(1, 1))\n",
              ")], add_time=True, silent=False)"
            ]
          },
          "metadata": {
            "tags": []
          },
          "execution_count": 11
        }
      ]
    },
    {
      "cell_type": "markdown",
      "metadata": {
        "id": "hnLRNWL9MToc",
        "colab_type": "text"
      },
      "source": [
        "# Decalring Step Dropout as Callback\n",
        "\n",
        "[Not used in this notebook]\n"
      ]
    },
    {
      "cell_type": "code",
      "metadata": {
        "id": "byf9ZSraA5MZ",
        "colab_type": "code",
        "colab": {}
      },
      "source": [
        "class Drop_Activations(LearnerCallback):\n",
        "  train_flag = False\n",
        "  \n",
        "  def on_train_begin(self, **kwargs):\n",
        "    \"Initialize stats.\"\n",
        "    super().on_train_begin(**kwargs)\n",
        "    self.train_flag = True\n",
        "    \n",
        "  def on_epoch_begin(self, **kwargs):\n",
        "    if (self.train_flag):\n",
        "      epoch_num = kwargs['epoch']\n",
        "      epoch_tot = kwargs['n_epochs']\n",
        "\n",
        "      child = children(self.model)[0]\n",
        "      for item in child:\n",
        "        if isinstance(item, nn.Dropout):\n",
        "          item.p = (epoch_num  / epoch_tot) * 0.5\n",
        "\n",
        "  def on_train_end(self, **kwargs):\n",
        "    \"Initialize stats.\"\n",
        "    super().on_train_begin(**kwargs)\n",
        "    self.train_flag = False"
      ],
      "execution_count": 0,
      "outputs": []
    },
    {
      "cell_type": "markdown",
      "metadata": {
        "id": "JXJuxCSPu7AH",
        "colab_type": "text"
      },
      "source": [
        "# Declaring Curriculum Line  dropout"
      ]
    },
    {
      "cell_type": "code",
      "metadata": {
        "id": "jTiJDMFIhkNZ",
        "colab_type": "code",
        "outputId": "2c6110e7-5339-4d49-96a4-7fcddbf04c40",
        "colab": {
          "base_uri": "https://localhost:8080/",
          "height": 269
        }
      },
      "source": [
        "# Params as per paper\n",
        "\"\"\" \n",
        "keep_prob_input: _prob_input,   #0.9\n",
        "keep_prob_conv : _prob_conv,    #0.75\n",
        "keep_prob_fc   : _prob_fc       #0.5\n",
        "\"\"\"\n",
        "\n",
        "import numpy as np\n",
        "\n",
        "gamma = 0.001\n",
        "p = 0.5 \n",
        "\n",
        "\n",
        "def line_drop(x):\n",
        "  return (x / (40 * 390)) * p\n",
        "\n",
        "def schedule_dropout(x):\n",
        "    val = (1.0 - p) * np.exp(- gamma * x ) + p\n",
        "    return val\n",
        "\n",
        "#     val = -(1.-p)* np.exp(- gamma * x) + 1 # Default. \n",
        "#     This is value set to keep_prob in TF. \n",
        "#     In case of pytorch it refers to probability to make zero\n",
        "def Anneal_dropout(x):\n",
        "    val =    (1.-p)* np.exp(- gamma * x)\n",
        "    return val\n",
        "\n",
        "# 40  refers to number of epochs\n",
        "# 390 refers to (number of train images / (batch_size))\n",
        "j = []\n",
        "for i in range(0,40 * 390):  \n",
        "  j.append(line_drop(i))\n",
        "\n",
        "num_iter = 390\n",
        "\n",
        "import matplotlib.pyplot as plt\n",
        "plt.plot(j)\n",
        "plt.ylabel('some numbers')\n",
        "plt.show()"
      ],
      "execution_count": 0,
      "outputs": [
        {
          "output_type": "display_data",
          "data": {
            "image/png": "[encoded data removed]",
            "text/plain": [
              "<Figure size 432x288 with 1 Axes>"
            ]
          },
          "metadata": {
            "tags": []
          }
        }
      ]
    },
    {
      "cell_type": "code",
      "metadata": {
        "id": "MumbqAEO11hN",
        "colab_type": "code",
        "colab": {}
      },
      "source": [
        "class Curriculum_Dropout(LearnerCallback):\n",
        "    \"Curriculum Dropout Callback\"\n",
        "    count = 0\n",
        "    train_flag = False\n",
        "    \n",
        "    def on_train_begin(self, **kwargs):\n",
        "        \"Initialize stats.\"\n",
        "        super().on_train_begin(**kwargs)\n",
        "        self.train_flag = True\n",
        "        self.count = 0\n",
        "\n",
        "    def on_batch_begin(self, train, **kwargs):\n",
        "        \"Take the stored results and puts it in `self.stats`\"\n",
        "        if (train): \n",
        "          self.count += 1; \n",
        "          child = children(self.model)[0]\n",
        "          for item in child:\n",
        "            if isinstance(item, nn.Dropout):\n",
        "              item.p = line_drop(kwargs['iteration'])\n",
        "          \n",
        "    def on_train_end(self, **kwargs):\n",
        "        \"Polish the final result.\"\n",
        "        super().on_train_end(**kwargs)\n",
        "        self.count = 0"
      ],
      "execution_count": 0,
      "outputs": []
    },
    {
      "cell_type": "markdown",
      "metadata": {
        "id": "3usmfeiZMu31",
        "colab_type": "text"
      },
      "source": [
        "# Using the curriculum line drop in this notebook"
      ]
    },
    {
      "cell_type": "code",
      "metadata": {
        "id": "s7GkZ8ajMqjL",
        "colab_type": "code",
        "colab": {}
      },
      "source": [
        "# learn.callbacks += [ Drop_Activations(learn) ]\n",
        "learn.callbacks += [ Rank_Activations(learn) ]\n",
        "learn.callbacks += [ Curriculum_Dropout(learn) ]"
      ],
      "execution_count": 0,
      "outputs": []
    },
    {
      "cell_type": "markdown",
      "metadata": {
        "id": "B5fz5C-KM3On",
        "colab_type": "text"
      },
      "source": [
        "# Running the Network"
      ]
    },
    {
      "cell_type": "code",
      "metadata": {
        "id": "P48QhLSTKQWL",
        "colab_type": "code",
        "outputId": "1f35ffad-796f-40a6-8fea-62d384fba055",
        "colab": {
          "base_uri": "https://localhost:8080/",
          "height": 1000
        }
      },
      "source": [
        "epochs =40\n",
        "learn.fit( epochs ,  lr= (1 * base_lr , 0.1 * base_lr) , wd = (2 * w_decay , 1 *w_decay))"
      ],
      "execution_count": 0,
      "outputs": [
        {
          "output_type": "display_data",
          "data": {
            "text/html": [
              "<table border=\"1\" class=\"dataframe\">\n",
              "  <thead>\n",
              "    <tr style=\"text-align: left;\">\n",
              "      <th>epoch</th>\n",
              "      <th>train_loss</th>\n",
              "      <th>valid_loss</th>\n",
              "      <th>accuracy</th>\n",
              "      <th>error_rate</th>\n",
              "      <th>top_k_accuracy</th>\n",
              "      <th>time</th>\n",
              "    </tr>\n",
              "  </thead>\n",
              "  <tbody>\n",
              "    <tr>\n",
              "      <td>0</td>\n",
              "      <td>4.457010</td>\n",
              "      <td>4.407050</td>\n",
              "      <td>0.038200</td>\n",
              "      <td>0.961800</td>\n",
              "      <td>0.151000</td>\n",
              "      <td>00:39</td>\n",
              "    </tr>\n",
              "    <tr>\n",
              "      <td>1</td>\n",
              "      <td>4.269063</td>\n",
              "      <td>4.121736</td>\n",
              "      <td>0.076700</td>\n",
              "      <td>0.923300</td>\n",
              "      <td>0.247100</td>\n",
              "      <td>00:39</td>\n",
              "    </tr>\n",
              "    <tr>\n",
              "      <td>2</td>\n",
              "      <td>4.116526</td>\n",
              "      <td>3.953439</td>\n",
              "      <td>0.095900</td>\n",
              "      <td>0.904100</td>\n",
              "      <td>0.302100</td>\n",
              "      <td>00:38</td>\n",
              "    </tr>\n",
              "    <tr>\n",
              "      <td>3</td>\n",
              "      <td>3.971855</td>\n",
              "      <td>3.686150</td>\n",
              "      <td>0.132000</td>\n",
              "      <td>0.868000</td>\n",
              "      <td>0.375600</td>\n",
              "      <td>00:38</td>\n",
              "    </tr>\n",
              "    <tr>\n",
              "      <td>4</td>\n",
              "      <td>3.844726</td>\n",
              "      <td>3.446853</td>\n",
              "      <td>0.165200</td>\n",
              "      <td>0.834800</td>\n",
              "      <td>0.437800</td>\n",
              "      <td>00:38</td>\n",
              "    </tr>\n",
              "    <tr>\n",
              "      <td>5</td>\n",
              "      <td>3.688110</td>\n",
              "      <td>3.269913</td>\n",
              "      <td>0.190000</td>\n",
              "      <td>0.810000</td>\n",
              "      <td>0.487800</td>\n",
              "      <td>00:38</td>\n",
              "    </tr>\n",
              "    <tr>\n",
              "      <td>6</td>\n",
              "      <td>3.562614</td>\n",
              "      <td>3.147001</td>\n",
              "      <td>0.217900</td>\n",
              "      <td>0.782100</td>\n",
              "      <td>0.520100</td>\n",
              "      <td>00:39</td>\n",
              "    </tr>\n",
              "    <tr>\n",
              "      <td>7</td>\n",
              "      <td>3.454859</td>\n",
              "      <td>3.004339</td>\n",
              "      <td>0.255000</td>\n",
              "      <td>0.745000</td>\n",
              "      <td>0.567000</td>\n",
              "      <td>00:39</td>\n",
              "    </tr>\n",
              "    <tr>\n",
              "      <td>8</td>\n",
              "      <td>3.357899</td>\n",
              "      <td>2.804860</td>\n",
              "      <td>0.292600</td>\n",
              "      <td>0.707400</td>\n",
              "      <td>0.608800</td>\n",
              "      <td>00:39</td>\n",
              "    </tr>\n",
              "    <tr>\n",
              "      <td>9</td>\n",
              "      <td>3.217531</td>\n",
              "      <td>2.596706</td>\n",
              "      <td>0.342900</td>\n",
              "      <td>0.657100</td>\n",
              "      <td>0.659300</td>\n",
              "      <td>00:39</td>\n",
              "    </tr>\n",
              "    <tr>\n",
              "      <td>10</td>\n",
              "      <td>3.176359</td>\n",
              "      <td>2.565075</td>\n",
              "      <td>0.346900</td>\n",
              "      <td>0.653100</td>\n",
              "      <td>0.666600</td>\n",
              "      <td>00:38</td>\n",
              "    </tr>\n",
              "    <tr>\n",
              "      <td>11</td>\n",
              "      <td>3.084729</td>\n",
              "      <td>2.545688</td>\n",
              "      <td>0.358000</td>\n",
              "      <td>0.642000</td>\n",
              "      <td>0.669500</td>\n",
              "      <td>00:38</td>\n",
              "    </tr>\n",
              "    <tr>\n",
              "      <td>12</td>\n",
              "      <td>3.016130</td>\n",
              "      <td>2.387670</td>\n",
              "      <td>0.381900</td>\n",
              "      <td>0.618100</td>\n",
              "      <td>0.707000</td>\n",
              "      <td>00:38</td>\n",
              "    </tr>\n",
              "    <tr>\n",
              "      <td>13</td>\n",
              "      <td>2.960802</td>\n",
              "      <td>2.257072</td>\n",
              "      <td>0.405400</td>\n",
              "      <td>0.594600</td>\n",
              "      <td>0.733600</td>\n",
              "      <td>00:39</td>\n",
              "    </tr>\n",
              "    <tr>\n",
              "      <td>14</td>\n",
              "      <td>2.898826</td>\n",
              "      <td>2.158250</td>\n",
              "      <td>0.441400</td>\n",
              "      <td>0.558600</td>\n",
              "      <td>0.743200</td>\n",
              "      <td>00:39</td>\n",
              "    </tr>\n",
              "    <tr>\n",
              "      <td>15</td>\n",
              "      <td>2.868570</td>\n",
              "      <td>2.169203</td>\n",
              "      <td>0.434500</td>\n",
              "      <td>0.565500</td>\n",
              "      <td>0.746100</td>\n",
              "      <td>00:39</td>\n",
              "    </tr>\n",
              "    <tr>\n",
              "      <td>16</td>\n",
              "      <td>2.812959</td>\n",
              "      <td>2.062223</td>\n",
              "      <td>0.459900</td>\n",
              "      <td>0.540100</td>\n",
              "      <td>0.765100</td>\n",
              "      <td>00:39</td>\n",
              "    </tr>\n",
              "    <tr>\n",
              "      <td>17</td>\n",
              "      <td>2.770391</td>\n",
              "      <td>2.020823</td>\n",
              "      <td>0.466400</td>\n",
              "      <td>0.533600</td>\n",
              "      <td>0.775200</td>\n",
              "      <td>00:39</td>\n",
              "    </tr>\n",
              "    <tr>\n",
              "      <td>18</td>\n",
              "      <td>2.740431</td>\n",
              "      <td>1.964042</td>\n",
              "      <td>0.474800</td>\n",
              "      <td>0.525200</td>\n",
              "      <td>0.785500</td>\n",
              "      <td>00:39</td>\n",
              "    </tr>\n",
              "    <tr>\n",
              "      <td>19</td>\n",
              "      <td>2.697144</td>\n",
              "      <td>1.977939</td>\n",
              "      <td>0.485400</td>\n",
              "      <td>0.514600</td>\n",
              "      <td>0.788800</td>\n",
              "      <td>00:39</td>\n",
              "    </tr>\n",
              "    <tr>\n",
              "      <td>20</td>\n",
              "      <td>2.677574</td>\n",
              "      <td>1.859682</td>\n",
              "      <td>0.497400</td>\n",
              "      <td>0.502600</td>\n",
              "      <td>0.802100</td>\n",
              "      <td>00:39</td>\n",
              "    </tr>\n",
              "    <tr>\n",
              "      <td>21</td>\n",
              "      <td>2.654670</td>\n",
              "      <td>1.873560</td>\n",
              "      <td>0.506400</td>\n",
              "      <td>0.493600</td>\n",
              "      <td>0.794900</td>\n",
              "      <td>00:39</td>\n",
              "    </tr>\n",
              "    <tr>\n",
              "      <td>22</td>\n",
              "      <td>2.612121</td>\n",
              "      <td>1.840981</td>\n",
              "      <td>0.511500</td>\n",
              "      <td>0.488500</td>\n",
              "      <td>0.807500</td>\n",
              "      <td>00:39</td>\n",
              "    </tr>\n",
              "    <tr>\n",
              "      <td>23</td>\n",
              "      <td>2.613979</td>\n",
              "      <td>1.809676</td>\n",
              "      <td>0.522500</td>\n",
              "      <td>0.477500</td>\n",
              "      <td>0.810500</td>\n",
              "      <td>00:39</td>\n",
              "    </tr>\n",
              "    <tr>\n",
              "      <td>24</td>\n",
              "      <td>2.584736</td>\n",
              "      <td>1.799816</td>\n",
              "      <td>0.525500</td>\n",
              "      <td>0.474500</td>\n",
              "      <td>0.812200</td>\n",
              "      <td>00:39</td>\n",
              "    </tr>\n",
              "    <tr>\n",
              "      <td>25</td>\n",
              "      <td>2.571647</td>\n",
              "      <td>1.810198</td>\n",
              "      <td>0.519300</td>\n",
              "      <td>0.480700</td>\n",
              "      <td>0.804500</td>\n",
              "      <td>00:38</td>\n",
              "    </tr>\n",
              "    <tr>\n",
              "      <td>26</td>\n",
              "      <td>2.520188</td>\n",
              "      <td>1.724252</td>\n",
              "      <td>0.544400</td>\n",
              "      <td>0.455600</td>\n",
              "      <td>0.819600</td>\n",
              "      <td>00:38</td>\n",
              "    </tr>\n",
              "    <tr>\n",
              "      <td>27</td>\n",
              "      <td>2.544769</td>\n",
              "      <td>1.728637</td>\n",
              "      <td>0.538300</td>\n",
              "      <td>0.461700</td>\n",
              "      <td>0.823900</td>\n",
              "      <td>00:39</td>\n",
              "    </tr>\n",
              "    <tr>\n",
              "      <td>28</td>\n",
              "      <td>2.528942</td>\n",
              "      <td>1.723018</td>\n",
              "      <td>0.542900</td>\n",
              "      <td>0.457100</td>\n",
              "      <td>0.825200</td>\n",
              "      <td>00:39</td>\n",
              "    </tr>\n",
              "    <tr>\n",
              "      <td>29</td>\n",
              "      <td>2.534424</td>\n",
              "      <td>1.769100</td>\n",
              "      <td>0.542600</td>\n",
              "      <td>0.457400</td>\n",
              "      <td>0.821800</td>\n",
              "      <td>00:37</td>\n",
              "    </tr>\n",
              "    <tr>\n",
              "      <td>30</td>\n",
              "      <td>2.519965</td>\n",
              "      <td>1.724364</td>\n",
              "      <td>0.541700</td>\n",
              "      <td>0.458300</td>\n",
              "      <td>0.823100</td>\n",
              "      <td>00:36</td>\n",
              "    </tr>\n",
              "    <tr>\n",
              "      <td>31</td>\n",
              "      <td>2.513430</td>\n",
              "      <td>1.645889</td>\n",
              "      <td>0.554800</td>\n",
              "      <td>0.445200</td>\n",
              "      <td>0.834400</td>\n",
              "      <td>00:36</td>\n",
              "    </tr>\n",
              "    <tr>\n",
              "      <td>32</td>\n",
              "      <td>2.488781</td>\n",
              "      <td>1.665154</td>\n",
              "      <td>0.555000</td>\n",
              "      <td>0.445000</td>\n",
              "      <td>0.832000</td>\n",
              "      <td>00:36</td>\n",
              "    </tr>\n",
              "    <tr>\n",
              "      <td>33</td>\n",
              "      <td>2.477223</td>\n",
              "      <td>1.602351</td>\n",
              "      <td>0.571200</td>\n",
              "      <td>0.428800</td>\n",
              "      <td>0.844200</td>\n",
              "      <td>00:35</td>\n",
              "    </tr>\n",
              "    <tr>\n",
              "      <td>34</td>\n",
              "      <td>2.482057</td>\n",
              "      <td>1.634665</td>\n",
              "      <td>0.563800</td>\n",
              "      <td>0.436200</td>\n",
              "      <td>0.837300</td>\n",
              "      <td>00:36</td>\n",
              "    </tr>\n",
              "    <tr>\n",
              "      <td>35</td>\n",
              "      <td>2.479630</td>\n",
              "      <td>1.706516</td>\n",
              "      <td>0.545900</td>\n",
              "      <td>0.454100</td>\n",
              "      <td>0.824900</td>\n",
              "      <td>00:36</td>\n",
              "    </tr>\n",
              "    <tr>\n",
              "      <td>36</td>\n",
              "      <td>2.461889</td>\n",
              "      <td>1.627594</td>\n",
              "      <td>0.561800</td>\n",
              "      <td>0.438200</td>\n",
              "      <td>0.835100</td>\n",
              "      <td>00:36</td>\n",
              "    </tr>\n",
              "    <tr>\n",
              "      <td>37</td>\n",
              "      <td>2.476827</td>\n",
              "      <td>1.616358</td>\n",
              "      <td>0.568500</td>\n",
              "      <td>0.431500</td>\n",
              "      <td>0.840400</td>\n",
              "      <td>00:36</td>\n",
              "    </tr>\n",
              "    <tr>\n",
              "      <td>38</td>\n",
              "      <td>2.475356</td>\n",
              "      <td>1.599115</td>\n",
              "      <td>0.570000</td>\n",
              "      <td>0.430000</td>\n",
              "      <td>0.842100</td>\n",
              "      <td>00:37</td>\n",
              "    </tr>\n",
              "    <tr>\n",
              "      <td>39</td>\n",
              "      <td>2.479990</td>\n",
              "      <td>1.621674</td>\n",
              "      <td>0.564500</td>\n",
              "      <td>0.435500</td>\n",
              "      <td>0.837700</td>\n",
              "      <td>00:36</td>\n",
              "    </tr>\n",
              "  </tbody>\n",
              "</table>"
            ],
            "text/plain": [
              "<IPython.core.display.HTML object>"
            ]
          },
          "metadata": {
            "tags": []
          }
        }
      ]
    },
    {
      "cell_type": "markdown",
      "metadata": {
        "id": "hWJcONPvur28",
        "colab_type": "text"
      },
      "source": [
        "# Result"
      ]
    },
    {
      "cell_type": "code",
      "metadata": {
        "id": "gfjWz3CnJqTG",
        "colab_type": "code",
        "outputId": "b66a0ee0-b4f5-4842-d72d-f094dd5da26d",
        "colab": {
          "base_uri": "https://localhost:8080/",
          "height": 34
        }
      },
      "source": [
        "learn.validate()"
      ],
      "execution_count": 0,
      "outputs": [
        {
          "output_type": "execute_result",
          "data": {
            "text/plain": [
              "[1.6216741, tensor(0.5645), tensor(0.4355), tensor(0.8377)]"
            ]
          },
          "metadata": {
            "tags": []
          },
          "execution_count": 17
        }
      ]
    },
    {
      "cell_type": "markdown",
      "metadata": {
        "id": "6G8pHjiluDrk",
        "colab_type": "text"
      },
      "source": [
        "# Best Results\n",
        "\n",
        "[Obtained during trial run. I hope the variation is minimal across multiple runs]\n",
        "\n",
        "\n",
        ">  train_loss --------------------------------- 2.461889\n",
        "\n",
        "> valid_loss --------------------------------- 1.599115\n",
        "\n",
        "> accuracy ---------------------------------- 0.5712\n",
        "\n",
        "> error_rate --------------------------------- 0.4288\n",
        "\n",
        "> top_k_accuracy ----------------------- 0.8442\t"
      ]
    }
  ]
}