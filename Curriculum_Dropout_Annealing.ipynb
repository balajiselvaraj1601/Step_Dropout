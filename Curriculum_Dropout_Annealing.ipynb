{
  "nbformat": 4,
  "nbformat_minor": 0,
  "metadata": {
    "colab": {
      "name": "Curriculum_Dropout_Annealing.ipynb",
      "version": "0.3.2",
      "provenance": [],
      "collapsed_sections": []
    },
    "kernelspec": {
      "name": "python3",
      "display_name": "Python 3"
    },
    "accelerator": "GPU"
  },
  "cells": [
    {
      "cell_type": "markdown",
      "metadata": {
        "id": "VouTljcpLD-A",
        "colab_type": "text"
      },
      "source": [
        "# Installing desired version of fastai - pytorch"
      ]
    },
    {
      "cell_type": "code",
      "metadata": {
        "id": "Y0Tf08U0r5GP",
        "colab_type": "code",
        "colab": {}
      },
      "source": [
        "!pip install fastai==1.0.54 > /dev/null"
      ],
      "execution_count": 0,
      "outputs": []
    },
    {
      "cell_type": "markdown",
      "metadata": {
        "id": "6VmFz6IJKM45",
        "colab_type": "text"
      },
      "source": [
        "# Setting up Environment to get reproducible results\n",
        "\n",
        "[** Didn't set num_workers as 1]\n",
        "\n",
        "Ref : https://docs.fast.ai/dev/test.html#getting-reproducible-results"
      ]
    },
    {
      "cell_type": "code",
      "metadata": {
        "id": "APQjxSSkKKXZ",
        "colab_type": "code",
        "colab": {}
      },
      "source": [
        "seed = 42\n",
        "\n",
        "# python RNG\n",
        "import random\n",
        "random.seed(seed)\n",
        "\n",
        "# pytorch RNGs\n",
        "import torch\n",
        "torch.manual_seed(seed)\n",
        "torch.backends.cudnn.deterministic = True\n",
        "if torch.cuda.is_available(): torch.cuda.manual_seed_all(seed)\n",
        "\n",
        "# numpy RNG\n",
        "import numpy as np\n",
        "np.random.seed(seed)"
      ],
      "execution_count": 0,
      "outputs": []
    },
    {
      "cell_type": "markdown",
      "metadata": {
        "id": "Fv4c2zj4J0fG",
        "colab_type": "text"
      },
      "source": [
        "# Loading required packages\n",
        "\n",
        "(Some packages can be removed, as I have carried out other operations that are not part of this release)"
      ]
    },
    {
      "cell_type": "code",
      "metadata": {
        "id": "oZCzCpUDsTsc",
        "colab_type": "code",
        "colab": {}
      },
      "source": [
        "import torch.nn as nn\n",
        "\n",
        "import torch\n",
        "import torch.nn as nn\n",
        "import torch.nn.functional as F\n",
        "import shutil as sh\n",
        "import os\n",
        "\n",
        "from fastai.layers import *\n",
        "from fastai.torch_core import *\n",
        "\n",
        "from fastai.vision import *\n",
        "from fastai.callbacks.csv_logger import CSVLogger\n",
        "from fastai.callbacks.hooks import *\n",
        "\n",
        "torch.backends.cudnn.benchmark = True\n",
        "\n",
        "from fastai.torch_core import *\n",
        "from fastai.callback import *\n",
        "from fastai.callbacks import *\n",
        "from fastai.basic_train import *\n",
        "from fastai.basic_data import *"
      ],
      "execution_count": 0,
      "outputs": []
    },
    {
      "cell_type": "markdown",
      "metadata": {
        "id": "REEHRBQmLKbz",
        "colab_type": "text"
      },
      "source": [
        "# Downloading CIFAR100 Dataset"
      ]
    },
    {
      "cell_type": "code",
      "metadata": {
        "id": "gyz_iBnxsYcv",
        "colab_type": "code",
        "colab": {}
      },
      "source": [
        "path = untar_data(URLs.CIFAR_100)"
      ],
      "execution_count": 0,
      "outputs": []
    },
    {
      "cell_type": "markdown",
      "metadata": {
        "id": "Co1a_MdlLUVR",
        "colab_type": "text"
      },
      "source": [
        "# Parameters and Dataloader"
      ]
    },
    {
      "cell_type": "code",
      "metadata": {
        "id": "RZ8em3bksbBV",
        "colab_type": "code",
        "colab": {}
      },
      "source": [
        "bs = 128\n",
        "epochs = 50\n",
        "metrics = [accuracy, error_rate, top_k_accuracy]\n",
        "\n",
        "loss_func = nn.CrossEntropyLoss()\n",
        "\n",
        "base_lr = 0.1\n",
        "momentum= 0.9\n",
        "w_decay = 0.0001\n",
        "\n",
        "opt_func = partial (optim.SGD, momentum=0.9)\n",
        "\n",
        "result_path = '/content/sample_data/activation/results/'\n",
        "final_path = \"/content/drive/'My Drive'/activation/\""
      ],
      "execution_count": 0,
      "outputs": []
    },
    {
      "cell_type": "code",
      "metadata": {
        "id": "HfADxASeskWy",
        "colab_type": "code",
        "colab": {}
      },
      "source": [
        "ds_tfms = ([ *rand_pad(4, 32), flip_lr(p=0.5)], [])\n",
        "data = ImageDataBunch.from_folder(path, valid='test', bs=bs ,ds_tfms = ds_tfms , val_bs =100).normalize(cifar_stats)"
      ],
      "execution_count": 0,
      "outputs": []
    },
    {
      "cell_type": "markdown",
      "metadata": {
        "id": "BCD1ZZRXLdB9",
        "colab_type": "text"
      },
      "source": [
        "# Modified NIN network\n",
        "\n",
        "Official Implementation\n",
        "\n",
        "https://gist.github.com/mavenlin/e56253735ef32c3c296d#file-solver-prototxt\n",
        "\n",
        "Our implementation is based on \n",
        "\n",
        "https://github.com/jiecaoyu/pytorch-nin-cifar10"
      ]
    },
    {
      "cell_type": "code",
      "metadata": {
        "id": "uQyEdkqpsrI0",
        "colab_type": "code",
        "colab": {}
      },
      "source": [
        "class Net(nn.Module):\n",
        "  def __init__(self):\n",
        "    super(Net, self).__init__()\n",
        "    self.num_classes = 100\n",
        "    self.classifier = nn.Sequential(\n",
        "                      nn.Conv2d(3, 192, kernel_size=5, stride=1, padding=2),\n",
        "                      nn.ReLU(inplace=True),\n",
        "        \n",
        "                      nn.Conv2d(192, 160, kernel_size=1, stride=1, padding=0),\n",
        "                      nn.ReLU(inplace=True),\n",
        "                      nn.Conv2d(160,  96, kernel_size=1, stride=1, padding=0),\n",
        "                      nn.ReLU(inplace=True),\n",
        "                      nn.MaxPool2d(kernel_size=3, stride=2, padding=1),\n",
        "                      nn.Dropout(0.5),\n",
        "\n",
        "                      nn.Conv2d(96, 192, kernel_size=5, stride=1, padding=2),\n",
        "                      nn.ReLU(inplace=True),\n",
        "                      nn.Conv2d(192, 192, kernel_size=1, stride=1, padding=0),\n",
        "                      nn.ReLU(inplace=True),\n",
        "                      nn.Conv2d(192, 192, kernel_size=1, stride=1, padding=0),\n",
        "                      nn.ReLU(inplace=True),\n",
        "                      nn.AvgPool2d(kernel_size=3, stride=2, padding=1),\n",
        "                      nn.Dropout(0.5),\n",
        "\n",
        "                      nn.Conv2d(192, 192, kernel_size=3, stride=1, padding=1),\n",
        "                      nn.ReLU(inplace=True),\n",
        "                      nn.Conv2d(192, 192, kernel_size=1, stride=1, padding=0),\n",
        "                      nn.ReLU(inplace=True),\n",
        "                      nn.Conv2d(192,  self.num_classes , kernel_size=1, stride=1, padding=0),\n",
        "                      nn.ReLU(inplace=True),\n",
        "                      nn.AvgPool2d(kernel_size=8, stride=1, padding=0),\n",
        "                      )\n",
        "\n",
        "  def forward(self, x):\n",
        "    x = self.classifier(x)\n",
        "    x = x.view(x.size(0), self.num_classes)\n",
        "    return x"
      ],
      "execution_count": 0,
      "outputs": []
    },
    {
      "cell_type": "code",
      "metadata": {
        "id": "V1jIaKI1lmiu",
        "colab_type": "code",
        "colab": {}
      },
      "source": [
        "class Rank_Activations(HookCallback):\n",
        "    \"Callback that record the mean and std of activations.\"\n",
        "    stats= []\n",
        "    \n",
        "    def on_train_begin(self, **kwargs):\n",
        "        \"Initialize stats.\"\n",
        "        super().on_train_begin(**kwargs)\n",
        "        self.stats = []\n",
        "        self.num = 0\n",
        "\n",
        "    def hook(self, m:nn.Conv2d, i:Tensors, o:Tensors)->Tuple[Rank0Tensor,Rank0Tensor]:\n",
        "        \"Take the mean and std of `o`.\"\n",
        "        self.num = self.num + 1\n",
        "        if isinstance(m, nn.Conv2d):\n",
        "          res = o.mean().item()\n",
        "          return res\n",
        "          #print(m)\n",
        "        else:\n",
        "          #res = None\n",
        "          pass\n",
        "      \n",
        "    def on_batch_end(self, train, **kwargs):\n",
        "        \"Take the stored results and puts it in `self.stats`\"\n",
        "        if (not train): self.stats.append(self.hooks.stored)\n",
        "          \n",
        "    def on_train_end(self, **kwargs):\n",
        "        \"Polish the final result.\"\n",
        "        super().on_train_end(**kwargs)\n",
        "        self.stats = (self.stats)"
      ],
      "execution_count": 0,
      "outputs": []
    },
    {
      "cell_type": "markdown",
      "metadata": {
        "id": "ObXs8cj2L5Io",
        "colab_type": "text"
      },
      "source": [
        "# Initializing weights and bias"
      ]
    },
    {
      "cell_type": "code",
      "metadata": {
        "id": "HcYid_IfMHzD",
        "colab_type": "code",
        "colab": {}
      },
      "source": [
        "model = Net()\n",
        "# model.cuda()\n",
        "\n",
        "pretrained=False\n",
        "if pretrained:\n",
        "    params = pickle.load(open('data/params', 'r'))\n",
        "    index = -1\n",
        "    for m in model.modules():\n",
        "        if isinstance(m, nn.Conv2d):\n",
        "            index = index + 1\n",
        "            weight = torch.from_numpy(params[index])\n",
        "            m.weight.data.copy_(weight)\n",
        "            index = index + 1\n",
        "            bias = torch.from_numpy(params[index])\n",
        "            m.bias.data.copy_(bias)\n",
        "else:\n",
        "    for m in model.modules():\n",
        "        if isinstance(m, nn.Conv2d):\n",
        "            m.weight.data.normal_(0, 0.05)\n",
        "            m.bias.data.normal_(0, 0.0)\n"
      ],
      "execution_count": 0,
      "outputs": []
    },
    {
      "cell_type": "markdown",
      "metadata": {
        "id": "FMfiYInuMOXv",
        "colab_type": "text"
      },
      "source": [
        "# Splitting Model into sections for discriminative learning"
      ]
    },
    {
      "cell_type": "code",
      "metadata": {
        "id": "O8lfuSKOaVUh",
        "colab_type": "code",
        "colab": {}
      },
      "source": [
        "learn = Learner(data, model, loss_func= loss_func, opt_func = opt_func ,metrics=metrics).mixup()"
      ],
      "execution_count": 0,
      "outputs": []
    },
    {
      "cell_type": "code",
      "metadata": {
        "id": "UBs1iGqzsuKv",
        "colab_type": "code",
        "outputId": "2689ca01-56ce-4d10-c7ab-8e8cbc207b58",
        "colab": {
          "base_uri": "https://localhost:8080/",
          "height": 1000
        }
      },
      "source": [
        "learn.split([[ learn.model.classifier[0:20]], [learn.model.classifier[20] ]])"
      ],
      "execution_count": 11,
      "outputs": [
        {
          "output_type": "execute_result",
          "data": {
            "text/plain": [
              "Learner(data=ImageDataBunch;\n",
              "\n",
              "Train: LabelList (50000 items)\n",
              "x: ImageList\n",
              "Image (3, 32, 32),Image (3, 32, 32),Image (3, 32, 32),Image (3, 32, 32),Image (3, 32, 32)\n",
              "y: CategoryList\n",
              "flatfish,flatfish,flatfish,flatfish,flatfish\n",
              "Path: /root/.fastai/data/cifar100;\n",
              "\n",
              "Valid: LabelList (10000 items)\n",
              "x: ImageList\n",
              "Image (3, 32, 32),Image (3, 32, 32),Image (3, 32, 32),Image (3, 32, 32),Image (3, 32, 32)\n",
              "y: CategoryList\n",
              "flatfish,flatfish,flatfish,flatfish,flatfish\n",
              "Path: /root/.fastai/data/cifar100;\n",
              "\n",
              "Test: None, model=Net(\n",
              "  (classifier): Sequential(\n",
              "    (0): Conv2d(3, 192, kernel_size=(5, 5), stride=(1, 1), padding=(2, 2))\n",
              "    (1): ReLU(inplace)\n",
              "    (2): Conv2d(192, 160, kernel_size=(1, 1), stride=(1, 1))\n",
              "    (3): ReLU(inplace)\n",
              "    (4): Conv2d(160, 96, kernel_size=(1, 1), stride=(1, 1))\n",
              "    (5): ReLU(inplace)\n",
              "    (6): MaxPool2d(kernel_size=3, stride=2, padding=1, dilation=1, ceil_mode=False)\n",
              "    (7): Dropout(p=0.5)\n",
              "    (8): Conv2d(96, 192, kernel_size=(5, 5), stride=(1, 1), padding=(2, 2))\n",
              "    (9): ReLU(inplace)\n",
              "    (10): Conv2d(192, 192, kernel_size=(1, 1), stride=(1, 1))\n",
              "    (11): ReLU(inplace)\n",
              "    (12): Conv2d(192, 192, kernel_size=(1, 1), stride=(1, 1))\n",
              "    (13): ReLU(inplace)\n",
              "    (14): AvgPool2d(kernel_size=3, stride=2, padding=1)\n",
              "    (15): Dropout(p=0.5)\n",
              "    (16): Conv2d(192, 192, kernel_size=(3, 3), stride=(1, 1), padding=(1, 1))\n",
              "    (17): ReLU(inplace)\n",
              "    (18): Conv2d(192, 192, kernel_size=(1, 1), stride=(1, 1))\n",
              "    (19): ReLU(inplace)\n",
              "    (20): Conv2d(192, 100, kernel_size=(1, 1), stride=(1, 1))\n",
              "    (21): ReLU(inplace)\n",
              "    (22): AvgPool2d(kernel_size=8, stride=1, padding=0)\n",
              "  )\n",
              "), opt_func=functools.partial(<class 'torch.optim.sgd.SGD'>, momentum=0.9), loss_func=CrossEntropyLoss(), metrics=[<function accuracy at 0x7f3624024048>, <function error_rate at 0x7f3624024268>, <function top_k_accuracy at 0x7f3624024158>], true_wd=True, bn_wd=True, wd=0.01, train_bn=True, path=PosixPath('/root/.fastai/data/cifar100'), model_dir='models', callback_fns=[functools.partial(<class 'fastai.basic_train.Recorder'>, add_time=True, silent=False), functools.partial(<class 'fastai.callbacks.mixup.MixUpCallback'>, alpha=0.4, stack_x=False, stack_y=True)], callbacks=[], layer_groups=[Sequential(\n",
              "  (0): Sequential(\n",
              "    (0): Conv2d(3, 192, kernel_size=(5, 5), stride=(1, 1), padding=(2, 2))\n",
              "    (1): ReLU(inplace)\n",
              "    (2): Conv2d(192, 160, kernel_size=(1, 1), stride=(1, 1))\n",
              "    (3): ReLU(inplace)\n",
              "    (4): Conv2d(160, 96, kernel_size=(1, 1), stride=(1, 1))\n",
              "    (5): ReLU(inplace)\n",
              "    (6): MaxPool2d(kernel_size=3, stride=2, padding=1, dilation=1, ceil_mode=False)\n",
              "    (7): Dropout(p=0.5)\n",
              "    (8): Conv2d(96, 192, kernel_size=(5, 5), stride=(1, 1), padding=(2, 2))\n",
              "    (9): ReLU(inplace)\n",
              "    (10): Conv2d(192, 192, kernel_size=(1, 1), stride=(1, 1))\n",
              "    (11): ReLU(inplace)\n",
              "    (12): Conv2d(192, 192, kernel_size=(1, 1), stride=(1, 1))\n",
              "    (13): ReLU(inplace)\n",
              "    (14): AvgPool2d(kernel_size=3, stride=2, padding=1)\n",
              "    (15): Dropout(p=0.5)\n",
              "    (16): Conv2d(192, 192, kernel_size=(3, 3), stride=(1, 1), padding=(1, 1))\n",
              "    (17): ReLU(inplace)\n",
              "    (18): Conv2d(192, 192, kernel_size=(1, 1), stride=(1, 1))\n",
              "    (19): ReLU(inplace)\n",
              "  )\n",
              "), Sequential(\n",
              "  (0): Conv2d(192, 100, kernel_size=(1, 1), stride=(1, 1))\n",
              ")], add_time=True, silent=False)"
            ]
          },
          "metadata": {
            "tags": []
          },
          "execution_count": 11
        }
      ]
    },
    {
      "cell_type": "markdown",
      "metadata": {
        "id": "hnLRNWL9MToc",
        "colab_type": "text"
      },
      "source": [
        "# Decalring Step Dropout as Callback\n",
        "\n",
        "[Not used in this notebook]\n"
      ]
    },
    {
      "cell_type": "code",
      "metadata": {
        "id": "byf9ZSraA5MZ",
        "colab_type": "code",
        "colab": {}
      },
      "source": [
        "class Drop_Activations(LearnerCallback):\n",
        "  train_flag = False\n",
        "  \n",
        "  def on_train_begin(self, **kwargs):\n",
        "    \"Initialize stats.\"\n",
        "    super().on_train_begin(**kwargs)\n",
        "    self.train_flag = True\n",
        "    \n",
        "  def on_epoch_begin(self, **kwargs):\n",
        "    if (self.train_flag):\n",
        "      epoch_num = kwargs['epoch']\n",
        "      epoch_tot = kwargs['n_epochs']\n",
        "\n",
        "      child = children(self.model)[0]\n",
        "      for item in child:\n",
        "        if isinstance(item, nn.Dropout):\n",
        "          item.p = (epoch_num  / epoch_tot) * 0.5\n",
        "\n",
        "  def on_train_end(self, **kwargs):\n",
        "    \"Initialize stats.\"\n",
        "    super().on_train_begin(**kwargs)\n",
        "    self.train_flag = False"
      ],
      "execution_count": 0,
      "outputs": []
    },
    {
      "cell_type": "markdown",
      "metadata": {
        "id": "JXJuxCSPu7AH",
        "colab_type": "text"
      },
      "source": [
        "# Declaring Curriculum Annealing dropout"
      ]
    },
    {
      "cell_type": "code",
      "metadata": {
        "id": "jTiJDMFIhkNZ",
        "colab_type": "code",
        "colab": {
          "base_uri": "https://localhost:8080/",
          "height": 269
        },
        "outputId": "eccea5f9-2d07-46e9-fd6b-084e448c2b6f"
      },
      "source": [
        "# Params as per paper\n",
        "\"\"\" \n",
        "keep_prob_input: _prob_input,   #0.9\n",
        "keep_prob_conv : _prob_conv,    #0.75\n",
        "keep_prob_fc   : _prob_fc       #0.5\n",
        "\"\"\"\n",
        "\n",
        "import numpy as np\n",
        "\n",
        "gamma = 0.001\n",
        "p = 0.5 \n",
        "\n",
        "def schedule_dropout(x):\n",
        "    val = (1.0 - p) * np.exp(- gamma * x ) + p\n",
        "    return val\n",
        "\n",
        "#     val = -(1.-p)* np.exp(- gamma * x) + 1 # Default. \n",
        "#     This is value set to keep_prob in TF. \n",
        "#     In case of pytorch it refers to probability to make zero\n",
        "def Anneal_dropout(x):\n",
        "    val =    (1.-p)* np.exp(- gamma * x)\n",
        "    return val\n",
        "\n",
        "# 40  refers to number of epochs\n",
        "# 390 refers to (number of train images / (batch_size))\n",
        "j = []\n",
        "for i in range(0,40 * 390):  \n",
        "  j.append(Anneal_dropout(i))\n",
        "\n",
        "num_iter = 390\n",
        "\n",
        "\n",
        "import matplotlib.pyplot as plt\n",
        "plt.plot(j)\n",
        "plt.ylabel('some numbers')\n",
        "plt.show()"
      ],
      "execution_count": 13,
      "outputs": [
        {
          "output_type": "display_data",
          "data": {
            "image/png": "[encoded data removed]",
            "text/plain": [
              "<Figure size 432x288 with 1 Axes>"
            ]
          },
          "metadata": {
            "tags": []
          }
        }
      ]
    },
    {
      "cell_type": "code",
      "metadata": {
        "id": "MumbqAEO11hN",
        "colab_type": "code",
        "colab": {}
      },
      "source": [
        "class Curriculum_Dropout(LearnerCallback):\n",
        "    \"Curriculum Dropout Callback\"\n",
        "    count = 0\n",
        "    train_flag = False\n",
        "    \n",
        "    def on_train_begin(self, **kwargs):\n",
        "        \"Initialize stats.\"\n",
        "        super().on_train_begin(**kwargs)\n",
        "        self.train_flag = True\n",
        "        self.count = 0\n",
        "\n",
        "    def on_batch_begin(self, train, **kwargs):\n",
        "        \"Take the stored results and puts it in `self.stats`\"\n",
        "        if (train): \n",
        "          self.count += 1; \n",
        "          child = children(self.model)[0]\n",
        "          for item in child:\n",
        "            if isinstance(item, nn.Dropout):\n",
        "              item.p = Anneal_dropout(kwargs['iteration'])\n",
        "          \n",
        "    def on_train_end(self, **kwargs):\n",
        "        \"Polish the final result.\"\n",
        "        super().on_train_end(**kwargs)\n",
        "        self.count = 0"
      ],
      "execution_count": 0,
      "outputs": []
    },
    {
      "cell_type": "markdown",
      "metadata": {
        "id": "3usmfeiZMu31",
        "colab_type": "text"
      },
      "source": [
        "# Using the curriculum dropout in this notebook"
      ]
    },
    {
      "cell_type": "code",
      "metadata": {
        "id": "s7GkZ8ajMqjL",
        "colab_type": "code",
        "colab": {}
      },
      "source": [
        "# learn.callbacks += [ Drop_Activations(learn) ]\n",
        "learn.callbacks += [ Rank_Activations(learn) ]\n",
        "learn.callbacks += [ Curriculum_Dropout(learn) ]"
      ],
      "execution_count": 0,
      "outputs": []
    },
    {
      "cell_type": "markdown",
      "metadata": {
        "id": "B5fz5C-KM3On",
        "colab_type": "text"
      },
      "source": [
        "# Running the Network"
      ]
    },
    {
      "cell_type": "code",
      "metadata": {
        "id": "P48QhLSTKQWL",
        "colab_type": "code",
        "outputId": "500cd8c9-d0d3-4d03-bea9-6337a57a878e",
        "colab": {
          "base_uri": "https://localhost:8080/",
          "height": 1000
        }
      },
      "source": [
        "epochs =40\n",
        "learn.fit( epochs ,  lr= (1 * base_lr , 0.1 * base_lr) , wd = (2 * w_decay , 1 *w_decay))"
      ],
      "execution_count": 16,
      "outputs": [
        {
          "output_type": "display_data",
          "data": {
            "text/html": [
              "\n",
              "    <div>\n",
              "        <style>\n",
              "            /* Turns off some styling */\n",
              "            progress {\n",
              "                /* gets rid of default border in Firefox and Opera. */\n",
              "                border: none;\n",
              "                /* Needs to be in here for Safari polyfill so background images work as expected. */\n",
              "                background-size: auto;\n",
              "            }\n",
              "            .progress-bar-interrupted, .progress-bar-interrupted::-webkit-progress-bar {\n",
              "                background: #F44336;\n",
              "            }\n",
              "        </style>\n",
              "      <progress value='36' class='' max='40', style='width:300px; height:20px; vertical-align: middle;'></progress>\n",
              "      90.00% [36/40 21:37<02:24]\n",
              "    </div>\n",
              "    \n",
              "<table border=\"1\" class=\"dataframe\">\n",
              "  <thead>\n",
              "    <tr style=\"text-align: left;\">\n",
              "      <th>epoch</th>\n",
              "      <th>train_loss</th>\n",
              "      <th>valid_loss</th>\n",
              "      <th>accuracy</th>\n",
              "      <th>error_rate</th>\n",
              "      <th>top_k_accuracy</th>\n",
              "      <th>time</th>\n",
              "    </tr>\n",
              "  </thead>\n",
              "  <tbody>\n",
              "    <tr>\n",
              "      <td>0</td>\n",
              "      <td>4.471124</td>\n",
              "      <td>4.420779</td>\n",
              "      <td>0.030900</td>\n",
              "      <td>0.969100</td>\n",
              "      <td>0.135100</td>\n",
              "      <td>00:37</td>\n",
              "    </tr>\n",
              "    <tr>\n",
              "      <td>1</td>\n",
              "      <td>4.311343</td>\n",
              "      <td>4.145817</td>\n",
              "      <td>0.063400</td>\n",
              "      <td>0.936600</td>\n",
              "      <td>0.239500</td>\n",
              "      <td>00:35</td>\n",
              "    </tr>\n",
              "    <tr>\n",
              "      <td>2</td>\n",
              "      <td>4.145420</td>\n",
              "      <td>3.972932</td>\n",
              "      <td>0.090100</td>\n",
              "      <td>0.909900</td>\n",
              "      <td>0.291500</td>\n",
              "      <td>00:35</td>\n",
              "    </tr>\n",
              "    <tr>\n",
              "      <td>3</td>\n",
              "      <td>4.001894</td>\n",
              "      <td>3.736387</td>\n",
              "      <td>0.113100</td>\n",
              "      <td>0.886900</td>\n",
              "      <td>0.357300</td>\n",
              "      <td>00:35</td>\n",
              "    </tr>\n",
              "    <tr>\n",
              "      <td>4</td>\n",
              "      <td>3.877210</td>\n",
              "      <td>3.529216</td>\n",
              "      <td>0.154300</td>\n",
              "      <td>0.845700</td>\n",
              "      <td>0.419600</td>\n",
              "      <td>00:36</td>\n",
              "    </tr>\n",
              "    <tr>\n",
              "      <td>5</td>\n",
              "      <td>3.735052</td>\n",
              "      <td>3.329698</td>\n",
              "      <td>0.184400</td>\n",
              "      <td>0.815600</td>\n",
              "      <td>0.464700</td>\n",
              "      <td>00:36</td>\n",
              "    </tr>\n",
              "    <tr>\n",
              "      <td>6</td>\n",
              "      <td>3.620399</td>\n",
              "      <td>3.274146</td>\n",
              "      <td>0.206100</td>\n",
              "      <td>0.793900</td>\n",
              "      <td>0.484400</td>\n",
              "      <td>00:36</td>\n",
              "    </tr>\n",
              "    <tr>\n",
              "      <td>7</td>\n",
              "      <td>3.531113</td>\n",
              "      <td>3.032808</td>\n",
              "      <td>0.260800</td>\n",
              "      <td>0.739200</td>\n",
              "      <td>0.567200</td>\n",
              "      <td>00:36</td>\n",
              "    </tr>\n",
              "    <tr>\n",
              "      <td>8</td>\n",
              "      <td>3.398856</td>\n",
              "      <td>2.869457</td>\n",
              "      <td>0.282700</td>\n",
              "      <td>0.717300</td>\n",
              "      <td>0.596000</td>\n",
              "      <td>00:36</td>\n",
              "    </tr>\n",
              "    <tr>\n",
              "      <td>9</td>\n",
              "      <td>3.278484</td>\n",
              "      <td>2.650634</td>\n",
              "      <td>0.330900</td>\n",
              "      <td>0.669100</td>\n",
              "      <td>0.641500</td>\n",
              "      <td>00:35</td>\n",
              "    </tr>\n",
              "    <tr>\n",
              "      <td>10</td>\n",
              "      <td>3.202642</td>\n",
              "      <td>2.586169</td>\n",
              "      <td>0.350900</td>\n",
              "      <td>0.649100</td>\n",
              "      <td>0.665800</td>\n",
              "      <td>00:35</td>\n",
              "    </tr>\n",
              "    <tr>\n",
              "      <td>11</td>\n",
              "      <td>3.104610</td>\n",
              "      <td>2.556938</td>\n",
              "      <td>0.348500</td>\n",
              "      <td>0.651500</td>\n",
              "      <td>0.667900</td>\n",
              "      <td>00:36</td>\n",
              "    </tr>\n",
              "    <tr>\n",
              "      <td>12</td>\n",
              "      <td>3.014765</td>\n",
              "      <td>2.347714</td>\n",
              "      <td>0.396300</td>\n",
              "      <td>0.603700</td>\n",
              "      <td>0.713800</td>\n",
              "      <td>00:36</td>\n",
              "    </tr>\n",
              "    <tr>\n",
              "      <td>13</td>\n",
              "      <td>2.963596</td>\n",
              "      <td>2.290038</td>\n",
              "      <td>0.407600</td>\n",
              "      <td>0.592400</td>\n",
              "      <td>0.734300</td>\n",
              "      <td>00:35</td>\n",
              "    </tr>\n",
              "    <tr>\n",
              "      <td>14</td>\n",
              "      <td>2.877850</td>\n",
              "      <td>2.235229</td>\n",
              "      <td>0.421500</td>\n",
              "      <td>0.578500</td>\n",
              "      <td>0.729000</td>\n",
              "      <td>00:35</td>\n",
              "    </tr>\n",
              "    <tr>\n",
              "      <td>15</td>\n",
              "      <td>2.835551</td>\n",
              "      <td>2.141058</td>\n",
              "      <td>0.445300</td>\n",
              "      <td>0.554700</td>\n",
              "      <td>0.752400</td>\n",
              "      <td>00:34</td>\n",
              "    </tr>\n",
              "    <tr>\n",
              "      <td>16</td>\n",
              "      <td>2.785589</td>\n",
              "      <td>2.007154</td>\n",
              "      <td>0.472100</td>\n",
              "      <td>0.527900</td>\n",
              "      <td>0.775800</td>\n",
              "      <td>00:35</td>\n",
              "    </tr>\n",
              "    <tr>\n",
              "      <td>17</td>\n",
              "      <td>2.738358</td>\n",
              "      <td>2.001054</td>\n",
              "      <td>0.468700</td>\n",
              "      <td>0.531300</td>\n",
              "      <td>0.777700</td>\n",
              "      <td>00:37</td>\n",
              "    </tr>\n",
              "    <tr>\n",
              "      <td>18</td>\n",
              "      <td>2.689823</td>\n",
              "      <td>1.976157</td>\n",
              "      <td>0.475000</td>\n",
              "      <td>0.525000</td>\n",
              "      <td>0.783000</td>\n",
              "      <td>00:35</td>\n",
              "    </tr>\n",
              "    <tr>\n",
              "      <td>19</td>\n",
              "      <td>2.634652</td>\n",
              "      <td>1.916967</td>\n",
              "      <td>0.492400</td>\n",
              "      <td>0.507600</td>\n",
              "      <td>0.790600</td>\n",
              "      <td>00:34</td>\n",
              "    </tr>\n",
              "    <tr>\n",
              "      <td>20</td>\n",
              "      <td>2.618023</td>\n",
              "      <td>1.783429</td>\n",
              "      <td>0.520100</td>\n",
              "      <td>0.479900</td>\n",
              "      <td>0.817500</td>\n",
              "      <td>00:38</td>\n",
              "    </tr>\n",
              "    <tr>\n",
              "      <td>21</td>\n",
              "      <td>2.559937</td>\n",
              "      <td>1.843078</td>\n",
              "      <td>0.511400</td>\n",
              "      <td>0.488600</td>\n",
              "      <td>0.805100</td>\n",
              "      <td>00:37</td>\n",
              "    </tr>\n",
              "    <tr>\n",
              "      <td>22</td>\n",
              "      <td>2.537014</td>\n",
              "      <td>1.778234</td>\n",
              "      <td>0.523900</td>\n",
              "      <td>0.476100</td>\n",
              "      <td>0.815200</td>\n",
              "      <td>00:35</td>\n",
              "    </tr>\n",
              "    <tr>\n",
              "      <td>23</td>\n",
              "      <td>2.517437</td>\n",
              "      <td>1.877995</td>\n",
              "      <td>0.509000</td>\n",
              "      <td>0.491000</td>\n",
              "      <td>0.803600</td>\n",
              "      <td>00:36</td>\n",
              "    </tr>\n",
              "    <tr>\n",
              "      <td>24</td>\n",
              "      <td>2.511419</td>\n",
              "      <td>1.782894</td>\n",
              "      <td>0.529800</td>\n",
              "      <td>0.470200</td>\n",
              "      <td>0.814200</td>\n",
              "      <td>00:35</td>\n",
              "    </tr>\n",
              "    <tr>\n",
              "      <td>25</td>\n",
              "      <td>2.468248</td>\n",
              "      <td>1.789395</td>\n",
              "      <td>0.525100</td>\n",
              "      <td>0.474900</td>\n",
              "      <td>0.818400</td>\n",
              "      <td>00:35</td>\n",
              "    </tr>\n",
              "    <tr>\n",
              "      <td>26</td>\n",
              "      <td>2.422069</td>\n",
              "      <td>1.700906</td>\n",
              "      <td>0.548600</td>\n",
              "      <td>0.451400</td>\n",
              "      <td>0.827400</td>\n",
              "      <td>00:36</td>\n",
              "    </tr>\n",
              "    <tr>\n",
              "      <td>27</td>\n",
              "      <td>2.419622</td>\n",
              "      <td>1.654381</td>\n",
              "      <td>0.560000</td>\n",
              "      <td>0.440000</td>\n",
              "      <td>0.837800</td>\n",
              "      <td>00:36</td>\n",
              "    </tr>\n",
              "    <tr>\n",
              "      <td>28</td>\n",
              "      <td>2.397176</td>\n",
              "      <td>1.651654</td>\n",
              "      <td>0.562700</td>\n",
              "      <td>0.437300</td>\n",
              "      <td>0.836600</td>\n",
              "      <td>00:36</td>\n",
              "    </tr>\n",
              "    <tr>\n",
              "      <td>29</td>\n",
              "      <td>2.386443</td>\n",
              "      <td>1.750883</td>\n",
              "      <td>0.541300</td>\n",
              "      <td>0.458700</td>\n",
              "      <td>0.821800</td>\n",
              "      <td>00:36</td>\n",
              "    </tr>\n",
              "    <tr>\n",
              "      <td>30</td>\n",
              "      <td>2.369246</td>\n",
              "      <td>1.671527</td>\n",
              "      <td>0.557400</td>\n",
              "      <td>0.442600</td>\n",
              "      <td>0.829000</td>\n",
              "      <td>00:36</td>\n",
              "    </tr>\n",
              "    <tr>\n",
              "      <td>31</td>\n",
              "      <td>2.367758</td>\n",
              "      <td>1.618600</td>\n",
              "      <td>0.567000</td>\n",
              "      <td>0.433000</td>\n",
              "      <td>0.839300</td>\n",
              "      <td>00:36</td>\n",
              "    </tr>\n",
              "    <tr>\n",
              "      <td>32</td>\n",
              "      <td>2.309331</td>\n",
              "      <td>1.604528</td>\n",
              "      <td>0.572900</td>\n",
              "      <td>0.427100</td>\n",
              "      <td>0.842700</td>\n",
              "      <td>00:34</td>\n",
              "    </tr>\n",
              "    <tr>\n",
              "      <td>33</td>\n",
              "      <td>2.311385</td>\n",
              "      <td>1.616985</td>\n",
              "      <td>0.570700</td>\n",
              "      <td>0.429300</td>\n",
              "      <td>0.838700</td>\n",
              "      <td>00:35</td>\n",
              "    </tr>\n",
              "    <tr>\n",
              "      <td>34</td>\n",
              "      <td>2.277174</td>\n",
              "      <td>1.625493</td>\n",
              "      <td>0.567400</td>\n",
              "      <td>0.432600</td>\n",
              "      <td>0.838300</td>\n",
              "      <td>00:36</td>\n",
              "    </tr>\n",
              "    <tr>\n",
              "      <td>35</td>\n",
              "      <td>2.282399</td>\n",
              "      <td>1.660736</td>\n",
              "      <td>0.559300</td>\n",
              "      <td>0.440700</td>\n",
              "      <td>0.834900</td>\n",
              "      <td>00:35</td>\n",
              "    </tr>\n",
              "  </tbody>\n",
              "</table><p>\n",
              "\n",
              "    <div>\n",
              "        <style>\n",
              "            /* Turns off some styling */\n",
              "            progress {\n",
              "                /* gets rid of default border in Firefox and Opera. */\n",
              "                border: none;\n",
              "                /* Needs to be in here for Safari polyfill so background images work as expected. */\n",
              "                background-size: auto;\n",
              "            }\n",
              "            .progress-bar-interrupted, .progress-bar-interrupted::-webkit-progress-bar {\n",
              "                background: #F44336;\n",
              "            }\n",
              "        </style>\n",
              "      <progress value='284' class='' max='390', style='width:300px; height:20px; vertical-align: middle;'></progress>\n",
              "      72.82% [284/390 00:23<00:08 2.2356]\n",
              "    </div>\n",
              "    "
            ],
            "text/plain": [
              "<IPython.core.display.HTML object>"
            ]
          },
          "metadata": {
            "tags": []
          }
        },
        {
          "output_type": "stream",
          "text": [
            "Buffered data was truncated after reaching the output size limit."
          ],
          "name": "stdout"
        }
      ]
    },
    {
      "cell_type": "markdown",
      "metadata": {
        "id": "hWJcONPvur28",
        "colab_type": "text"
      },
      "source": [
        "# Result"
      ]
    },
    {
      "cell_type": "code",
      "metadata": {
        "id": "gfjWz3CnJqTG",
        "colab_type": "code",
        "colab": {
          "base_uri": "https://localhost:8080/",
          "height": 34
        },
        "outputId": "41976b67-a058-40e5-8530-707ee913a0a7"
      },
      "source": [
        "learn.validate()"
      ],
      "execution_count": 17,
      "outputs": [
        {
          "output_type": "execute_result",
          "data": {
            "text/plain": [
              "[1.5655344, tensor(0.5837), tensor(0.4163), tensor(0.8473)]"
            ]
          },
          "metadata": {
            "tags": []
          },
          "execution_count": 17
        }
      ]
    },
    {
      "cell_type": "markdown",
      "metadata": {
        "id": "6G8pHjiluDrk",
        "colab_type": "text"
      },
      "source": [
        "# Best Results\n",
        "\n",
        "[Obtained during trial run. I hope the variation is minimal across multiple runs]\n",
        "\n",
        "\n",
        ">  train_loss --------------------------------- 2.206255\n",
        "\n",
        "> valid_loss ---------------------------------1.5655344\n",
        "\n",
        "> accuracy ---------------------------------- 0.5837 \n",
        "\n",
        "> error_rate --------------------------------- 0.4163 \n",
        "\n",
        "> top_k_accuracy ----------------------- 0.8473\n"
      ]
    }
  ]
}